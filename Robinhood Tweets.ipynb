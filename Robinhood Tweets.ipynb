{
 "cells": [
  {
   "cell_type": "code",
   "execution_count": 1,
   "metadata": {},
   "outputs": [],
   "source": [
    "import tweepy\n",
    "from wordcloud import WordCloud, STOPWORDS\n",
    "import matplotlib.pyplot as plt\n",
    "import numpy as np\n",
    "from PIL import Image"
   ]
  },
  {
   "cell_type": "code",
   "execution_count": null,
   "metadata": {},
   "outputs": [],
   "source": [
    "#Twitter API Keys\n",
    "consKey = \"insert keys\"\n",
    "consSecret = \"Insert keys\"\n",
    "accessKey = \"insert keys\"\n",
    "accessSecret = \"insert keys\""
   ]
  },
  {
   "cell_type": "code",
   "execution_count": null,
   "metadata": {},
   "outputs": [],
   "source": [
    "#Twitter Tweepy Authetication\n",
    "auth = tweepy.OAuthHandler(consumer_key=consKey, consumer_secret=consSecret)"
   ]
  },
  {
   "cell_type": "code",
   "execution_count": null,
   "metadata": {},
   "outputs": [],
   "source": [
    "#Twitter Access Authetication\n",
    "auth.set_access_token(accessKey, accessSecret)"
   ]
  },
  {
   "cell_type": "code",
   "execution_count": null,
   "metadata": {},
   "outputs": [],
   "source": [
    "#Search Term and Number of tweets input boxes\n",
    "api = tweepy.API(auth)\n",
    "search_term = input(\"Search Term \")\n",
    "number_of_tweets = int(input(\"Number of tweets \"))"
   ]
  },
  {
   "cell_type": "code",
   "execution_count": null,
   "metadata": {},
   "outputs": [],
   "source": [
    "#Gathers entered tweets\n",
    "tweets = tweepy.Cursor(api.search, q=search_term, lang=\"en\").items(number_of_tweets)"
   ]
  },
  {
   "cell_type": "code",
   "execution_count": null,
   "metadata": {},
   "outputs": [],
   "source": [
    "#Creates cloud from tweets\n",
    "cloud = \"\"\n",
    "for each in tweets:\n",
    "    cloud = cloud + each.text"
   ]
  },
  {
   "cell_type": "code",
   "execution_count": null,
   "metadata": {},
   "outputs": [],
   "source": [
    "#Displays cloud using twitter logo\n",
    "mask = np.array(Image.open('C:\\\\Users\\\\lysha\\\\OneDrive\\\\Documents\\\\Python\\\\twitter.png'))\n",
    "cloud = WordCloud(background_color=\"white\", mask=mask, max_words=250, max_font_size=256,\n",
    "               random_state=42, width=mask.shape[1],\n",
    "               height=mask.shape[0]).generate(cloud)\n",
    "plt.imshow(cloud)\n",
    "plt.axis('off')\n",
    "plt.show()"
   ]
  },
  {
   "cell_type": "code",
   "execution_count": null,
   "metadata": {},
   "outputs": [],
   "source": [
    "cloud.to_file('robinhood1.png')"
   ]
  }
 ],
 "metadata": {
  "kernelspec": {
   "display_name": "Python 3",
   "language": "python",
   "name": "python3"
  },
  "language_info": {
   "codemirror_mode": {
    "name": "ipython",
    "version": 3
   },
   "file_extension": ".py",
   "mimetype": "text/x-python",
   "name": "python",
   "nbconvert_exporter": "python",
   "pygments_lexer": "ipython3",
   "version": "3.8.5"
  },
  "widgets": {
   "application/vnd.jupyter.widget-state+json": {
    "state": {},
    "version_major": 2,
    "version_minor": 0
   }
  }
 },
 "nbformat": 4,
 "nbformat_minor": 4
}
